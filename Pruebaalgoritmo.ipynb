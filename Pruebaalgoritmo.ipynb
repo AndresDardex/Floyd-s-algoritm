{
 "cells": [
  {
   "cell_type": "code",
   "execution_count": 45,
   "metadata": {},
   "outputs": [],
   "source": [
    "class Nodo:\n",
    "    def __init__(self, valor):\n",
    "        self.valor = valor\n",
    "        self.siguiente = None\n",
    "\n",
    "# Creamos una lista enlazada con un ciclo\n",
    "nodo1 = Nodo(1)\n",
    "nodo2 = Nodo(2)\n",
    "nodo3 = Nodo(3)\n",
    "nodo4 = Nodo(4)\n",
    "nodo5 = Nodo(5)\n",
    "\n",
    "nodo1.siguiente = nodo2\n",
    "nodo2.siguiente = nodo3\n",
    "nodo3.siguiente = nodo4\n",
    "nodo4.siguiente = nodo5\n",
    "nodo5.siguiente = nodo2  # Se introduce un ciclo\n"
   ]
  },
  {
   "cell_type": "code",
   "execution_count": 46,
   "metadata": {},
   "outputs": [
    {
     "name": "stdout",
     "output_type": "stream",
     "text": [
      "La lista tiene ciclo:  True\n"
     ]
    }
   ],
   "source": [
    "def detectar_ciclo(head):\n",
    "    Tortoise = head\n",
    "    Hare = head\n",
    "\n",
    "    while Hare is not None and Hare.siguiente is not None:\n",
    "        Tortoise = Tortoise.siguiente\n",
    "        Hare = Hare.siguiente.siguiente\n",
    "\n",
    "        if Tortoise == Hare:\n",
    "            return True  \n",
    "\n",
    "    return False   \n",
    "\n",
    "\n",
    "tiene_ciclo = detectar_ciclo(nodo1)\n",
    "\n",
    "\n",
    "print(\"La lista tiene ciclo: \", tiene_ciclo)\n"
   ]
  },
  {
   "cell_type": "code",
   "execution_count": 42,
   "metadata": {},
   "outputs": [],
   "source": [
    "def conejo_tortuga(lista):\n",
    "    tortuga = lista[0]\n",
    "    conejo = lista[0]\n",
    "    \n",
    "    while True:\n",
    "        tortuga = lista[tortuga]\n",
    "        conejo = lista[lista[conejo]]\n",
    "\n",
    "        if tortuga == conejo:\n",
    "            break\n",
    "\n",
    "    tortuga = lista[0]\n",
    "    while tortuga != conejo:\n",
    "        tortuga = lista[tortuga]\n",
    "        conejo = lista[conejo]\n",
    "\n",
    "    return print(f'El valor repetido es: {tortuga}')\n"
   ]
  },
  {
   "cell_type": "code",
   "execution_count": 44,
   "metadata": {},
   "outputs": [
    {
     "name": "stdout",
     "output_type": "stream",
     "text": [
      "El valor repetido es: 1\n",
      "El valor repetido es: 2\n",
      "El valor repetido es: 5\n"
     ]
    }
   ],
   "source": [
    "conejo_tortuga([1, 2, 3, 4, 5, 6, 7, 8, 9, 10, 1]) #no hay repetidos\n",
    "conejo_tortuga([1, 2, 3, 4, 5, 2, 6, 7, 8, 9, 10]) #hay repetidos y es el 5\n",
    "conejo_tortuga([1, 2, 3, 4, 5, 6, 7, 8, 9, 10, 5, 11, 12, 13, 14, 15, 16, 17, 18, 19, 20, 5]) #hay repetidos y es el 6"
   ]
  }
 ],
 "metadata": {
  "kernelspec": {
   "display_name": "Python 3",
   "language": "python",
   "name": "python3"
  },
  "language_info": {
   "codemirror_mode": {
    "name": "ipython",
    "version": 3
   },
   "file_extension": ".py",
   "mimetype": "text/x-python",
   "name": "python",
   "nbconvert_exporter": "python",
   "pygments_lexer": "ipython3",
   "version": "3.9.13"
  }
 },
 "nbformat": 4,
 "nbformat_minor": 2
}
